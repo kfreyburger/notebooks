{
  "nbformat": 4,
  "nbformat_minor": 0,
  "metadata": {
    "colab": {
      "name": "BWI160 Python Beispiel",
      "version": "0.3.2",
      "provenance": [],
      "collapsed_sections": [],
      "toc_visible": true,
      "include_colab_link": true
    },
    "kernelspec": {
      "display_name": "Python 3",
      "name": "python3"
    }
  },
  "cells": [
    {
      "cell_type": "markdown",
      "metadata": {
        "id": "view-in-github",
        "colab_type": "text"
      },
      "source": [
        "<a href=\"https://colab.research.google.com/github/kfreyburger/pythontrial/blob/master/BWI160_Python_Beispiel.ipynb\" target=\"_parent\"><img src=\"https://colab.research.google.com/assets/colab-badge.svg\" alt=\"Open In Colab\"/></a>"
      ]
    },
    {
      "cell_type": "markdown",
      "metadata": {
        "colab_type": "text",
        "id": "5fCEDCU_qrC0"
      },
      "source": [
        "<p><img alt=\"HwgLu logo\" height=\"60px\" src=\"https://www.hwg-lu.de/fileadmin/_processed_/9/1/csm_HSL-Logo-GER_RGB_transparent_large_662a77e66e.png\" align=\"left\" hspace=\"10px\" vspace=\"0px\"></p>\n",
        "\n",
        "<h1>Willkommen zu einem kleinen Python Exkurs!</h1>\n",
        "\n",
        "\n",
        "Hier wollen wir einige kleine Übungen mit der Programmiersprache Python durchführen."
      ]
    },
    {
      "cell_type": "markdown",
      "metadata": {
        "colab_type": "text",
        "id": "GJBs_flRovLc"
      },
      "source": [
        "## Grundprinzip\n",
        "\n",
        "Es gibt **Zellen mit Programmcode**, die interaktiv verändert und durch drücken auf den **Start Knopf** ausgeführt werden können. Hier sehen wir in der ersten Zeile eine Variablenzuweisung. Die zweite Zeile sorgt dafür, dass die Variable anschließend ausgegeben wird. \n",
        "\n",
        "Versuchen Sie das mal!"
      ]
    },
    {
      "cell_type": "code",
      "metadata": {
        "colab_type": "code",
        "id": "gJr_9dXGpJ05",
        "outputId": "a6de7382-b81a-4522-9194-4071784acfa4",
        "colab": {
          "base_uri": "https://localhost:8080/",
          "height": 34
        }
      },
      "source": [
        "seconds_in_a_day = 24 * 60 * 60\n",
        "seconds_in_a_day"
      ],
      "execution_count": 0,
      "outputs": [
        {
          "output_type": "execute_result",
          "data": {
            "text/plain": [
              "86400"
            ]
          },
          "metadata": {
            "tags": []
          },
          "execution_count": 2
        }
      ]
    },
    {
      "cell_type": "markdown",
      "metadata": {
        "colab_type": "text",
        "id": "2fhs6GZ4qFMx"
      },
      "source": [
        "Die eben berechnete Variable steht auch anschließend für weitere Berechnungen zur Verfügung: "
      ]
    },
    {
      "cell_type": "code",
      "metadata": {
        "colab_type": "code",
        "id": "-gE-Ez1qtyIA",
        "outputId": "b21cab7d-cd67-400c-c642-ba61743c7cc8",
        "colab": {
          "base_uri": "https://localhost:8080/",
          "height": 34
        }
      },
      "source": [
        "seconds_in_a_week = 7 * seconds_in_a_day\n",
        "seconds_in_a_week"
      ],
      "execution_count": 0,
      "outputs": [
        {
          "output_type": "execute_result",
          "data": {
            "text/plain": [
              "604800"
            ]
          },
          "metadata": {
            "tags": []
          },
          "execution_count": 5
        }
      ]
    },
    {
      "cell_type": "markdown",
      "metadata": {
        "colab_type": "text",
        "id": "lSrWNr3MuFUS"
      },
      "source": [
        "Man kann natürlich die Variable später einfach erneut ausgeben:"
      ]
    },
    {
      "cell_type": "code",
      "metadata": {
        "id": "RVp7IIqdLlMr",
        "colab_type": "code",
        "outputId": "1d20422c-e7e9-4f2b-b3a8-34f54737e9e5",
        "colab": {
          "base_uri": "https://localhost:8080/",
          "height": 34
        }
      },
      "source": [
        "seconds_in_a_day"
      ],
      "execution_count": 0,
      "outputs": [
        {
          "output_type": "execute_result",
          "data": {
            "text/plain": [
              "86400"
            ]
          },
          "metadata": {
            "tags": []
          },
          "execution_count": 3
        }
      ]
    },
    {
      "cell_type": "markdown",
      "metadata": {
        "id": "vzj3Ys-BRqLT",
        "colab_type": "text"
      },
      "source": [
        ""
      ]
    }
  ]
}