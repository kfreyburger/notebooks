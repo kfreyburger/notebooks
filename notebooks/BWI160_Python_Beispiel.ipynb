{
  "nbformat": 4,
  "nbformat_minor": 0,
  "metadata": {
    "colab": {
      "name": "BWI160 Python Beispiel",
      "version": "0.3.2",
      "provenance": [],
      "collapsed_sections": [],
      "toc_visible": true,
      "include_colab_link": true
    },
    "kernelspec": {
      "display_name": "Python 3",
      "name": "python3"
    }
  },
  "cells": [
    {
      "cell_type": "markdown",
      "metadata": {
        "id": "view-in-github",
        "colab_type": "text"
      },
      "source": [
        "<a href=\"https://colab.research.google.com/github/kfreyburger/pythontrial/blob/master/BWI160_Python_Beispiel.ipynb\" target=\"_parent\"><img src=\"https://colab.research.google.com/assets/colab-badge.svg\" alt=\"Open In Colab\"/></a>"
      ]
    },
    {
      "cell_type": "markdown",
      "metadata": {
        "colab_type": "text",
        "id": "5fCEDCU_qrC0"
      },
      "source": [
        "<p><img alt=\"HwgLu logo\" height=\"60px\" src=\"https://www.hwg-lu.de/fileadmin/_processed_/9/1/csm_HSL-Logo-GER_RGB_transparent_large_662a77e66e.png\" align=\"left\" hspace=\"10px\" vspace=\"0px\"></p>\n",
        "\n",
        "<h1>Willkommen zu einem kleinen Python Exkurs!</h1>\n",
        "\n",
        "\n",
        "Hier wollen wir einige kleine Übungen mit der Programmiersprache Python durchführen."
      ]
    },
    {
      "cell_type": "markdown",
      "metadata": {
        "colab_type": "text",
        "id": "GJBs_flRovLc"
      },
      "source": [
        "## Grundprinzip\n",
        "\n",
        "Es gibt **Zellen mit Programmcode**, die interaktiv verändert und durch drücken auf den **Start Knopf** ausgeführt werden können. Hier sehen wir in der ersten Zeile eine Variablenzuweisung. Die zweite Zeile sorgt dafür, dass die Variable anschließend ausgegeben wird. \n",
        "\n",
        "Versuchen Sie das mal!"
      ]
    },
    {
      "cell_type": "code",
      "metadata": {
        "colab_type": "code",
        "id": "gJr_9dXGpJ05",
        "outputId": "331ffc76-fd6a-4f4e-d647-692d0eefc229",
        "colab": {
          "base_uri": "https://localhost:8080/",
          "height": 34
        }
      },
      "source": [
        "x = 5\n",
        "print (x)"
      ],
      "execution_count": 0,
      "outputs": [
        {
          "output_type": "stream",
          "text": [
            "5\n"
          ],
          "name": "stdout"
        }
      ]
    },
    {
      "cell_type": "markdown",
      "metadata": {
        "colab_type": "text",
        "id": "2fhs6GZ4qFMx"
      },
      "source": [
        "Die eben berechnete Variable steht auch anschließend für weitere Berechnungen zur Verfügung.\n",
        "\n",
        "Bei der Ausgabe kann man auch das \"print\" weglassen."
      ]
    },
    {
      "cell_type": "code",
      "metadata": {
        "colab_type": "code",
        "id": "-gE-Ez1qtyIA",
        "outputId": "ec5b97a7-66e5-4db2-9d47-728132c01943",
        "colab": {
          "base_uri": "https://localhost:8080/",
          "height": 34
        }
      },
      "source": [
        "y = x + 1\n",
        "y"
      ],
      "execution_count": 0,
      "outputs": [
        {
          "output_type": "execute_result",
          "data": {
            "text/plain": [
              "6"
            ]
          },
          "metadata": {
            "tags": []
          },
          "execution_count": 33
        }
      ]
    },
    {
      "cell_type": "code",
      "metadata": {
        "id": "gIKpUhdrnJ3l",
        "colab_type": "code",
        "outputId": "d5fcf959-8e36-48ba-ff38-a60df21a33e1",
        "colab": {
          "base_uri": "https://localhost:8080/",
          "height": 34
        }
      },
      "source": [
        "x = 2 * y\n",
        "x"
      ],
      "execution_count": 0,
      "outputs": [
        {
          "output_type": "execute_result",
          "data": {
            "text/plain": [
              "12"
            ]
          },
          "metadata": {
            "tags": []
          },
          "execution_count": 34
        }
      ]
    },
    {
      "cell_type": "markdown",
      "metadata": {
        "colab_type": "text",
        "id": "lSrWNr3MuFUS"
      },
      "source": [
        "Man kann natürlich eine Variable später einfach erneut ausgeben:"
      ]
    },
    {
      "cell_type": "code",
      "metadata": {
        "id": "RVp7IIqdLlMr",
        "colab_type": "code",
        "outputId": "1514687b-8359-4373-cb9b-91d3580c54e5",
        "colab": {
          "base_uri": "https://localhost:8080/",
          "height": 34
        }
      },
      "source": [
        "y"
      ],
      "execution_count": 0,
      "outputs": [
        {
          "output_type": "execute_result",
          "data": {
            "text/plain": [
              "6"
            ]
          },
          "metadata": {
            "tags": []
          },
          "execution_count": 27
        }
      ]
    },
    {
      "cell_type": "markdown",
      "metadata": {
        "id": "jGP2xn9Yn0Ai",
        "colab_type": "text"
      },
      "source": [
        "So speichert man mehrere Variablen und gibt eine davon aus:"
      ]
    },
    {
      "cell_type": "code",
      "metadata": {
        "id": "KTURIwVon-JD",
        "colab_type": "code",
        "outputId": "cafb9b45-1ca2-4d11-ac14-0102c8e81bdd",
        "colab": {
          "base_uri": "https://localhost:8080/",
          "height": 34
        }
      },
      "source": [
        "a = [5,1,8,3,9,2]\n",
        "a[2]"
      ],
      "execution_count": 0,
      "outputs": [
        {
          "output_type": "execute_result",
          "data": {
            "text/plain": [
              "8"
            ]
          },
          "metadata": {
            "tags": []
          },
          "execution_count": 29
        }
      ]
    },
    {
      "cell_type": "markdown",
      "metadata": {
        "id": "4paMo0Taoa6z",
        "colab_type": "text"
      },
      "source": [
        "So kann man Alternativen programmieren."
      ]
    },
    {
      "cell_type": "code",
      "metadata": {
        "id": "ZKtiR2gxodIr",
        "colab_type": "code",
        "outputId": "1f4f2e68-421f-4ef1-9e6b-a2b344fc3e69",
        "colab": {
          "base_uri": "https://localhost:8080/",
          "height": 34
        }
      },
      "source": [
        "merker = a[0]\n",
        "if a[1] > merker:\n",
        "  merker = a[1]\n",
        "merker"
      ],
      "execution_count": 0,
      "outputs": [
        {
          "output_type": "execute_result",
          "data": {
            "text/plain": [
              "5"
            ]
          },
          "metadata": {
            "tags": []
          },
          "execution_count": 30
        }
      ]
    },
    {
      "cell_type": "code",
      "metadata": {
        "id": "Fc7E_xQ6orOS",
        "colab_type": "code",
        "outputId": "bea6f1c8-8a20-480f-9fb1-1ddf64392fcc",
        "colab": {
          "base_uri": "https://localhost:8080/",
          "height": 34
        }
      },
      "source": [
        "if a[2] > merker:\n",
        "  merker = a[2]\n",
        "merker"
      ],
      "execution_count": 0,
      "outputs": [
        {
          "output_type": "execute_result",
          "data": {
            "text/plain": [
              "8"
            ]
          },
          "metadata": {
            "tags": []
          },
          "execution_count": 31
        }
      ]
    },
    {
      "cell_type": "markdown",
      "metadata": {
        "id": "vzj3Ys-BRqLT",
        "colab_type": "text"
      },
      "source": [
        "Nun berechnen wir das Maximum von allen Werten:"
      ]
    },
    {
      "cell_type": "code",
      "metadata": {
        "id": "W1K0d4wBXDqk",
        "colab_type": "code",
        "outputId": "16d4805a-f7e3-42fd-d331-ad40169f16e7",
        "colab": {
          "base_uri": "https://localhost:8080/",
          "height": 34
        }
      },
      "source": [
        "n= 6\n",
        "a = [5,1,8,3,9,2]\n",
        "merker = a[0]\n",
        "i = 1\n",
        "while i<n:\n",
        "  if a[i]>merker:\n",
        "    merker = a[i]\n",
        "  i = i+1  \n",
        "print(merker)"
      ],
      "execution_count": 37,
      "outputs": [
        {
          "output_type": "stream",
          "text": [
            "9\n"
          ],
          "name": "stdout"
        }
      ]
    }
  ]
}
