{
 "cells": [
  {
   "cell_type": "markdown",
   "metadata": {},
   "source": [
    "# Willkommen in der Java Vorlesung!\n",
    "Hier wollen wir einige Prinzipien mit der Programmiersprache Java demonstrieren. Dazu gibt es Zellen mit Programmcode, die interaktiv verändert und durch drücken auf den Start Knopf ausgeführt werden können. \n",
    "\n",
    "## Erstes Beispiel\n",
    "Im ersten Beispiel sehen wir drei Befehle:\n",
    "* Eine Variable muss zunächst deklariert werden bevor Sie verwendet werden kann (erste Zeile). \n",
    "* In der zweiten Zeile wird ein Wert zugewiesen. \n",
    "* Die dritte Zeile sorgt dafür, dass die Variable anschließend ausgegeben wird.\n",
    "\n",
    "Alle Befehle werden mit \";\" beendet!\n"
   ]
  },
  {
   "cell_type": "code",
   "execution_count": null,
   "metadata": {},
   "outputs": [],
   "source": [
    "int x;\n",
    "x = 5;\n",
    "System.out.println(x);"
   ]
  },
  {
   "cell_type": "markdown",
   "metadata": {},
   "source": [
    "So funktionieren **Variablen**"
   ]
  },
  {
   "cell_type": "code",
   "execution_count": null,
   "metadata": {},
   "outputs": [],
   "source": [
    "int x,y;\n",
    "x = 5;\n",
    "y = x+1;\n",
    "System.out.println(y);\n",
    "x = 2 * y;\n",
    "System.out.println(x);"
   ]
  },
  {
   "cell_type": "markdown",
   "metadata": {},
   "source": [
    "So speichert man **mehrere Werte** in einer Variablen. Die einzelnen Werte werden mit einem Index angesprochen, dessen Zählweise bei 0 beginnt. Mit a[2] spricht man also den dritten Wert der Variable a an."
   ]
  },
  {
   "cell_type": "code",
   "execution_count": null,
   "metadata": {},
   "outputs": [],
   "source": [
    "int[] a = {5,1,8,3,9,2};\n",
    "System.out.println(a[2]);"
   ]
  },
  {
   "cell_type": "markdown",
   "metadata": {},
   "source": [
    "So kann man **Alternativen** programmieren:"
   ]
  },
  {
   "cell_type": "code",
   "execution_count": null,
   "metadata": {},
   "outputs": [],
   "source": [
    "int merker = a[0];\n",
    "\n",
    "if (a[1] > merker)\n",
    "   merker = a[1];\n",
    "System.out.println(merker);\n",
    "\n",
    "if (a[2] > merker)\n",
    "  merker = a[2];\n",
    "System.out.println(merker)"
   ]
  },
  {
   "cell_type": "markdown",
   "metadata": {},
   "source": [
    "Nun berechnen wir das Maximum von mehreren ganzen Zahlen.\n",
    "Hier benötigen wir zusätzlich das Konzept der **Wiederholungen (\"Schleifen\")** in der sechsten Zeile.\n",
    "\n",
    "Alle Konzepte werden im Laufe der Vorlesung ausführlich besprochen."
   ]
  },
  {
   "cell_type": "code",
   "execution_count": null,
   "metadata": {},
   "outputs": [],
   "source": [
    "int n, i, merker;\n",
    "int[] a = { 5, 1, 8, 3, 9, 2 };\n",
    "n = a.length;\n",
    "merker = a[0];\n",
    "i = 1;\n",
    "while (i < n) {\n",
    "\tif (a[i] > merker)\n",
    "\t\tmerker = a[i];\n",
    "\ti = i + 1;\n",
    "}\n",
    "System.out.println(merker);"
   ]
  }
 ],
 "metadata": {
  "kernelspec": {
   "display_name": "Java",
   "language": "java",
   "name": "java"
  },
  "language_info": {
   "codemirror_mode": "java",
   "file_extension": ".jshell",
   "mimetype": "text/x-java-source",
   "name": "Java",
   "pygments_lexer": "java",
   "version": "11.0.8+10-post-Ubuntu-0ubuntu118.04.1"
  }
 },
 "nbformat": 4,
 "nbformat_minor": 2
}
