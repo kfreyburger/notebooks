{
 "cells": [
  {
   "cell_type": "markdown",
   "metadata": {
    "colab_type": "text",
    "id": "5fCEDCU_qrC0"
   },
   "source": [
    "<h1>Willkommen zu einem kleinen Python Exkurs!</h1>\n",
    "\n",
    "\n",
    "Hier wollen wir einige kleine Übungen mit der Programmiersprache Python durchführen. Es gibt Zellen mit **Programmcode**, die interaktiv verändert und durch drücken auf den Knopf **Run** ausgeführt werden können."
   ]
  },
  {
   "cell_type": "markdown",
   "metadata": {
    "colab_type": "text",
    "id": "GJBs_flRovLc"
   },
   "source": [
    "## Erstes Beispiel\n",
    "\n",
    "Hier sehen wir in der ersten Zeile eine Variablenzuweisung. Die zweite Zeile sorgt dafür, dass die Variable anschließend ausgegeben wird. \n",
    "\n",
    "Versuchen Sie das mal!"
   ]
  },
  {
   "cell_type": "code",
   "execution_count": 0,
   "metadata": {
    "colab": {
     "base_uri": "https://localhost:8080/",
     "height": 34
    },
    "colab_type": "code",
    "id": "gJr_9dXGpJ05",
    "outputId": "331ffc76-fd6a-4f4e-d647-692d0eefc229"
   },
   "outputs": [
    {
     "name": "stdout",
     "output_type": "stream",
     "text": [
      "5\n"
     ]
    }
   ],
   "source": [
    "x = 5\n",
    "print (x)"
   ]
  },
  {
   "cell_type": "markdown",
   "metadata": {
    "colab_type": "text",
    "id": "2fhs6GZ4qFMx"
   },
   "source": [
    "Die eben berechnete Variable steht auch anschließend für weitere Berechnungen zur Verfügung.\n",
    "\n",
    "Bei der Ausgabe kann man auch das \"print\" weglassen."
   ]
  },
  {
   "cell_type": "code",
   "execution_count": 0,
   "metadata": {
    "colab": {
     "base_uri": "https://localhost:8080/",
     "height": 34
    },
    "colab_type": "code",
    "id": "-gE-Ez1qtyIA",
    "outputId": "ec5b97a7-66e5-4db2-9d47-728132c01943"
   },
   "outputs": [
    {
     "data": {
      "text/plain": [
       "6"
      ]
     },
     "execution_count": 33,
     "metadata": {
      "tags": []
     },
     "output_type": "execute_result"
    }
   ],
   "source": [
    "y = x + 1\n",
    "y"
   ]
  },
  {
   "cell_type": "code",
   "execution_count": 0,
   "metadata": {
    "colab": {
     "base_uri": "https://localhost:8080/",
     "height": 34
    },
    "colab_type": "code",
    "id": "gIKpUhdrnJ3l",
    "outputId": "d5fcf959-8e36-48ba-ff38-a60df21a33e1"
   },
   "outputs": [
    {
     "data": {
      "text/plain": [
       "12"
      ]
     },
     "execution_count": 34,
     "metadata": {
      "tags": []
     },
     "output_type": "execute_result"
    }
   ],
   "source": [
    "x = 2 * y\n",
    "x"
   ]
  },
  {
   "cell_type": "markdown",
   "metadata": {
    "colab_type": "text",
    "id": "lSrWNr3MuFUS"
   },
   "source": [
    "Man kann natürlich eine Variable später einfach erneut ausgeben:"
   ]
  },
  {
   "cell_type": "code",
   "execution_count": 0,
   "metadata": {
    "colab": {
     "base_uri": "https://localhost:8080/",
     "height": 34
    },
    "colab_type": "code",
    "id": "RVp7IIqdLlMr",
    "outputId": "1514687b-8359-4373-cb9b-91d3580c54e5"
   },
   "outputs": [
    {
     "data": {
      "text/plain": [
       "6"
      ]
     },
     "execution_count": 27,
     "metadata": {
      "tags": []
     },
     "output_type": "execute_result"
    }
   ],
   "source": [
    "y"
   ]
  },
  {
   "cell_type": "markdown",
   "metadata": {
    "colab_type": "text",
    "id": "jGP2xn9Yn0Ai"
   },
   "source": [
    "So speichert man mehrere Variablen und gibt eine davon aus:"
   ]
  },
  {
   "cell_type": "code",
   "execution_count": 0,
   "metadata": {
    "colab": {
     "base_uri": "https://localhost:8080/",
     "height": 34
    },
    "colab_type": "code",
    "id": "KTURIwVon-JD",
    "outputId": "cafb9b45-1ca2-4d11-ac14-0102c8e81bdd"
   },
   "outputs": [
    {
     "data": {
      "text/plain": [
       "8"
      ]
     },
     "execution_count": 29,
     "metadata": {
      "tags": []
     },
     "output_type": "execute_result"
    }
   ],
   "source": [
    "a = [5,1,8,3,9,2]\n",
    "a[2]"
   ]
  },
  {
   "cell_type": "markdown",
   "metadata": {
    "colab_type": "text",
    "id": "4paMo0Taoa6z"
   },
   "source": [
    "So kann man Alternativen programmieren."
   ]
  },
  {
   "cell_type": "code",
   "execution_count": 0,
   "metadata": {
    "colab": {
     "base_uri": "https://localhost:8080/",
     "height": 34
    },
    "colab_type": "code",
    "id": "ZKtiR2gxodIr",
    "outputId": "1f4f2e68-421f-4ef1-9e6b-a2b344fc3e69"
   },
   "outputs": [
    {
     "data": {
      "text/plain": [
       "5"
      ]
     },
     "execution_count": 30,
     "metadata": {
      "tags": []
     },
     "output_type": "execute_result"
    }
   ],
   "source": [
    "merker = a[0]\n",
    "if a[1] > merker:\n",
    "  merker = a[1]\n",
    "merker"
   ]
  },
  {
   "cell_type": "code",
   "execution_count": 0,
   "metadata": {
    "colab": {
     "base_uri": "https://localhost:8080/",
     "height": 34
    },
    "colab_type": "code",
    "id": "Fc7E_xQ6orOS",
    "outputId": "bea6f1c8-8a20-480f-9fb1-1ddf64392fcc"
   },
   "outputs": [
    {
     "data": {
      "text/plain": [
       "8"
      ]
     },
     "execution_count": 31,
     "metadata": {
      "tags": []
     },
     "output_type": "execute_result"
    }
   ],
   "source": [
    "if a[2] > merker:\n",
    "  merker = a[2]\n",
    "merker"
   ]
  },
  {
   "cell_type": "markdown",
   "metadata": {
    "colab_type": "text",
    "id": "vzj3Ys-BRqLT"
   },
   "source": [
    "Nun berechnen wir das Maximum von allen Werten:"
   ]
  },
  {
   "cell_type": "code",
   "execution_count": 37,
   "metadata": {
    "colab": {
     "base_uri": "https://localhost:8080/",
     "height": 34
    },
    "colab_type": "code",
    "id": "W1K0d4wBXDqk",
    "outputId": "16d4805a-f7e3-42fd-d331-ad40169f16e7"
   },
   "outputs": [
    {
     "name": "stdout",
     "output_type": "stream",
     "text": [
      "9\n"
     ]
    }
   ],
   "source": [
    "n= 6\n",
    "a = [5,1,8,3,9,2]\n",
    "merker = a[0]\n",
    "i = 1\n",
    "while i<n:\n",
    "  if a[i]>merker:\n",
    "    merker = a[i]\n",
    "  i = i+1  \n",
    "print(merker)"
   ]
  }
 ],
 "metadata": {
  "colab": {
   "collapsed_sections": [],
   "include_colab_link": true,
   "name": "BWI160 Python Beispiel",
   "provenance": [],
   "toc_visible": true,
   "version": "0.3.2"
  },
  "kernelspec": {
   "display_name": "Python 3",
   "language": "python",
   "name": "python3"
  },
  "language_info": {
   "codemirror_mode": {
    "name": "ipython",
    "version": 3
   },
   "file_extension": ".py",
   "mimetype": "text/x-python",
   "name": "python",
   "nbconvert_exporter": "python",
   "pygments_lexer": "ipython3",
   "version": "3.7.4"
  }
 },
 "nbformat": 4,
 "nbformat_minor": 1
}
