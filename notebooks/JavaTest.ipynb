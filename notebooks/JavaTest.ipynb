{
 "cells": [
  {
   "cell_type": "markdown",
   "metadata": {},
   "source": [
    "# Dies ist ein Java-Test"
   ]
  },
  {
   "cell_type": "code",
   "execution_count": 2,
   "metadata": {},
   "outputs": [
    {
     "name": "stdout",
     "output_type": "stream",
     "text": [
      "HWG LU\n"
     ]
    }
   ],
   "source": [
    "String hwg = \"HWG LU\";\n",
    "\n",
    "System.out.println(hwg);"
   ]
  },
  {
   "cell_type": "markdown",
   "metadata": {},
   "source": [
    "## Erstes Beispiel\n"
   ]
  },
  {
   "cell_type": "code",
   "execution_count": 6,
   "metadata": {},
   "outputs": [
    {
     "name": "stdout",
     "output_type": "stream",
     "text": [
      "9\n"
     ]
    }
   ],
   "source": [
    "int n, i, merker;\n",
    "int[] a = { 5, 1, 8, 3, 9, 2 };\n",
    "n = a.length;\n",
    "merker = a[0];\n",
    "i = 1;\n",
    "while (i < n) {\n",
    "\tif (a[i] > merker)\n",
    "\t\tmerker = a[i];\n",
    "\ti = i + 1;\n",
    "}\n",
    "System.out.println(merker);"
   ]
  },
  {
   "cell_type": "markdown",
   "metadata": {},
   "source": [
    "### So funktionieren Variablen"
   ]
  },
  {
   "cell_type": "code",
   "execution_count": 9,
   "metadata": {},
   "outputs": [
    {
     "name": "stdout",
     "output_type": "stream",
     "text": [
      "6\n",
      "12\n"
     ]
    }
   ],
   "source": [
    "int x,y;\n",
    "x = 5;\n",
    "y = x+1;\n",
    "System.out.println(y);\n",
    "x = 2 * y;\n",
    "System.out.println(x);"
   ]
  }
 ],
 "metadata": {
  "kernelspec": {
   "display_name": "Java",
   "language": "java",
   "name": "java"
  },
  "language_info": {
   "codemirror_mode": "java",
   "file_extension": ".jshell",
   "mimetype": "text/x-java-source",
   "name": "Java",
   "pygments_lexer": "java",
   "version": "11.0.8+10-post-Ubuntu-0ubuntu118.04.1"
  }
 },
 "nbformat": 4,
 "nbformat_minor": 2
}
